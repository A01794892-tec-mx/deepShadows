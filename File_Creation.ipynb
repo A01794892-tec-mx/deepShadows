{
 "cells": [
  {
   "cell_type": "markdown",
   "metadata": {},
   "source": [
    "### Numpy files for Deep Learning\n",
    "\n",
    "Here is a script that does the following:\n",
    "\n",
    "- Reads the positions (RA, DEC) of objects (LSBGs/artifacts).\n",
    "\n",
    "- Gets cutouts from the DECaLS legacy viewer - saves them as jpg images.\n",
    "\n",
    "- Converts them into numpy arrays."
   ]
  },
  {
   "cell_type": "code",
   "execution_count": 2,
   "metadata": {},
   "outputs": [],
   "source": [
    "import numpy as np \n",
    "import pandas as pd\n",
    "import urllib\n",
    "import matplotlib\n",
    "import matplotlib.pyplot as plt\n",
    "from PIL import Image\n",
    "%matplotlib inline\n",
    "# ====================================\n",
    "# Adjust rc parameters to make plots pretty\n",
    "def plot_pretty(dpi=200, fontsize=9):\n",
    "    \n",
    "    import matplotlib.pyplot as plt\n",
    "\n",
    "    plt.rc(\"savefig\", dpi=dpi)       # dpi resolution of saved image files\n",
    "    # if you have LaTeX installed on your laptop, uncomment the line below for prettier labels\n",
    "    #plt.rc('text', usetex=True)      # use LaTeX to process labels\n",
    "    plt.rc('font', size=fontsize)    # fontsize\n",
    "    plt.rc('xtick', direction='in')  # make axes ticks point inward\n",
    "    plt.rc('ytick', direction='in')\n",
    "    plt.rc('xtick.major', pad=10) \n",
    "    plt.rc('xtick.minor', pad=5)\n",
    "    plt.rc('ytick.major', pad=10) \n",
    "    plt.rc('ytick.minor', pad=5)\n",
    "    plt.rc('lines', dotted_pattern = [0.5, 1.1]) # fix dotted lines\n",
    "\n",
    "    return\n",
    "plot_pretty()"
   ]
  },
  {
   "cell_type": "markdown",
   "metadata": {},
   "source": [
    "Now read the files that contains RAs and DECs "
   ]
  },
  {
   "cell_type": "code",
   "execution_count": 15,
   "metadata": {},
   "outputs": [
    {
     "name": "stdout",
     "output_type": "stream",
     "text": [
      "Number of objects to check is:\n",
      "20000\n",
      "(326.604164, -1.620107)\n"
     ]
    }
   ],
   "source": [
    "# Read the file that contains RAs and DECs \n",
    "df = pd.read_csv('random_negative_coadd_ra_dec_1.csv')\n",
    "# Get coords\n",
    "coadd_id = df['coadd_ids'].values\n",
    "ra = df['ra'].values\n",
    "dec = df['dec'].values\n",
    "\n",
    "# Calculate the length - the number of the candidates - it is going to be useful\n",
    "N_cand = len(ra)\n",
    "print(\"Number of objects to check is:\")\n",
    "print(N_cand)\n",
    "\n",
    "print(ra[0],dec[0])"
   ]
  },
  {
   "cell_type": "code",
   "execution_count": 16,
   "metadata": {},
   "outputs": [],
   "source": [
    "# Initialize array\n",
    "Array = np.zeros([5000,64,64,3])"
   ]
  },
  {
   "cell_type": "code",
   "execution_count": 20,
   "metadata": {},
   "outputs": [
    {
     "name": "stdout",
     "output_type": "stream",
     "text": [
      "('runs:', 4999)\n",
      "Time to produce the figures (in minutes):\n",
      "40.3988264998\n"
     ]
    }
   ],
   "source": [
    "import time\n",
    "from IPython.display import clear_output, display\n",
    "zoom = 15\n",
    "\n",
    "# Let's also time it\n",
    "tim_in = time.time()\n",
    "\n",
    "for i in range(5000):\n",
    "    j = i #\n",
    "    # Give a name to the figure. Name them as \"Image_cand_(i).jpb\n",
    "    # Where i is the number of the candidate\n",
    "    # This is easy to change to ra, dec or coadd ID or whatever...\n",
    "    fig_name = \"Image_cand.jpg\"\n",
    "    \n",
    "    #Create now the name of the URL\n",
    "    # This need to have as inputs (that change) the RA, DEC of each objec and zoom\n",
    "    RA_loc = ra[j] #The RA of the i-th object\n",
    "    DEC_loc = dec[j] # The DEC of the i-th object\n",
    "    \n",
    "    url_name = \"http://legacysurvey.org//viewer/jpeg-cutout?ra={0}&dec={1}&zoom={2}&layer=des-dr1\".format(RA_loc,DEC_loc,zoom)\n",
    "    #url_name = \"https://www.legacysurvey.org//viewer/jpeg-cutout?ra={0}&dec={1}&layer=hsc2&zoom={2}\".format(RA_loc,DEC_loc,zoom)\n",
    "    urllib.urlretrieve(url_name, fig_name) #Retrieves and saves each image\n",
    "    \n",
    "    image = Image.open('Image_cand.jpg')\n",
    "    # resize image\n",
    "    new_image = image.resize((64, 64))\n",
    "    # Convert the image to an RGB array\n",
    "    im_array = np.asarray(new_image)\n",
    "    \n",
    "    Array[i] = im_array\n",
    "    \n",
    "    clear_output(wait=True)\n",
    "    print('runs:',i)\n",
    "    # Leaving this here as an alternative way to do it\n",
    "    #f = open(fig_name,'wb') #Open file and give name to save figure\n",
    "    #f.write(urllib.urlopen(url_name).read()) #Open and read image from url\n",
    "    #f.close() # Close the file\n",
    "    \n",
    "tim_fin = time.time()\n",
    "print(\"Time to produce the figures (in minutes):\")\n",
    "print((tim_fin-tim_in)/60.0)"
   ]
  },
  {
   "cell_type": "code",
   "execution_count": 3,
   "metadata": {},
   "outputs": [],
   "source": [
    "np.save('Negative_sample_1_4', Array)"
   ]
  },
  {
   "cell_type": "code",
   "execution_count": null,
   "metadata": {},
   "outputs": [],
   "source": [
    "#plt.imshow(new_image)"
   ]
  },
  {
   "cell_type": "code",
   "execution_count": null,
   "metadata": {},
   "outputs": [],
   "source": []
  },
  {
   "cell_type": "code",
   "execution_count": null,
   "metadata": {},
   "outputs": [],
   "source": []
  }
 ],
 "metadata": {
  "kernelspec": {
   "display_name": "Python 2",
   "language": "python",
   "name": "python2"
  },
  "language_info": {
   "codemirror_mode": {
    "name": "ipython",
    "version": 2
   },
   "file_extension": ".py",
   "mimetype": "text/x-python",
   "name": "python",
   "nbconvert_exporter": "python",
   "pygments_lexer": "ipython2",
   "version": "2.7.13"
  }
 },
 "nbformat": 4,
 "nbformat_minor": 2
}
