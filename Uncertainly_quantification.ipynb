{
  "nbformat": 4,
  "nbformat_minor": 0,
  "metadata": {
    "colab": {
      "name": "Uncertainly_quantification.ipynb",
      "provenance": [],
      "machine_shape": "hm"
    },
    "kernelspec": {
      "name": "python3",
      "display_name": "Python 3"
    },
    "accelerator": "GPU"
  },
  "cells": [
    {
      "cell_type": "markdown",
      "metadata": {
        "id": "7FoUvoLy6UTD"
      },
      "source": [
        "# Uncertainty Quantification\n",
        "\n",
        "In the main notebook we \n",
        "\n",
        "\n",
        "### Import packages"
      ]
    },
    {
      "cell_type": "code",
      "metadata": {
        "id": "MO87kPYJ6Uy3"
      },
      "source": [
        "# Import basic packages\n",
        "import numpy as np\n",
        "import scipy as sp\n",
        "import pandas as pd\n",
        "from scipy import interpolate\n",
        "import random\n",
        "\n",
        "# Colab in order to download files\n",
        "from google.colab import files\n",
        "\n",
        "# =========================================\n",
        "# =========================================\n",
        "# scikit-learn for Machine Learn\n",
        "\n",
        "# Preprocessing\n",
        "from sklearn.preprocessing import StandardScaler #Standar scaler for standardization\n",
        "from sklearn.manifold import TSNE # Dimensionality reduction technique\n",
        "from sklearn.model_selection import GridSearchCV #Cross-Validation\n",
        "from sklearn.utils import resample #Resampling\n",
        "from sklearn.model_selection import train_test_split #Train test split\n",
        "# Classifiers\n",
        "from sklearn.svm import SVC #Support Vector Classifier\n",
        "from sklearn.ensemble import RandomForestClassifier as RF #Random Forests\n",
        "# Metrics\n",
        "from sklearn.metrics import accuracy_score \n",
        "from sklearn.metrics import confusion_matrix\n",
        "from sklearn.metrics import precision_score\n",
        "from sklearn.metrics import recall_score\n",
        "from sklearn.metrics import roc_auc_score\n",
        "from sklearn.metrics import roc_curve\n",
        "\n",
        "# =======================================\n",
        "# =======================================\n",
        "# Tensorflow and Keras\n",
        "import tensorflow as tf\n",
        "from tensorflow import keras\n",
        "from tensorflow.keras import regularizers\n",
        "from tensorflow.keras import optimizers\n",
        "# Keras Layers\n",
        "from keras.layers import InputLayer\n",
        "from keras.layers import Conv2D\n",
        "from keras.layers import BatchNormalization\n",
        "from keras.layers import Dropout\n",
        "from keras.layers import MaxPool2D\n",
        "from keras.layers import Flatten\n",
        "from keras.layers import Dense\n",
        "\n",
        "# ==============================================\n",
        "# ==============================================\n",
        "# Matplotlib, seaborn and plot pretty \n",
        "import matplotlib.pyplot as plt\n",
        "import matplotlib.gridspec as gridspec\n",
        "import seaborn as sns\n",
        "%matplotlib inline\n",
        "from matplotlib import rcParams\n",
        "rcParams['font.family'] = 'serif'\n",
        "\n",
        "# Adjust rc parameters to make plots pretty\n",
        "def plot_pretty(dpi=200, fontsize=9):\n",
        "    \n",
        "\n",
        "    plt.rc(\"savefig\", dpi=dpi)       # dpi resolution of saved image files\n",
        "    plt.rc('text', usetex=False)      # use LaTeX to process labels\n",
        "    plt.rc('font', size=fontsize)    # fontsize\n",
        "    plt.rc('xtick', direction='in')  # make axes ticks point inward\n",
        "    plt.rc('ytick', direction='in')\n",
        "    plt.rc('xtick.major', pad=10) \n",
        "    plt.rc('xtick.minor', pad=5)\n",
        "    plt.rc('ytick.major', pad=10) \n",
        "    plt.rc('ytick.minor', pad=5)\n",
        "    plt.rc('lines', dotted_pattern = [0.5, 1.1]) # fix dotted lines\n",
        "\n",
        "    return\n",
        "\n",
        "plot_pretty()\n",
        "\n",
        "# Pillow\n",
        "from PIL import Image"
      ],
      "execution_count": 1,
      "outputs": []
    },
    {
      "cell_type": "markdown",
      "metadata": {
        "id": "ZpjEI_TE6U-D"
      },
      "source": [
        "## Part I: Different random seeds\n",
        "\n",
        "\n",
        "\n",
        "\n",
        "**Import dataset**"
      ]
    },
    {
      "cell_type": "code",
      "metadata": {
        "id": "JtP9ePeU6VIl",
        "outputId": "333ee9ec-278d-4774-a470-bd7cbd442044",
        "colab": {
          "base_uri": "https://localhost:8080/",
          "height": 34
        }
      },
      "source": [
        "# Mount drive to upload the datasets\n",
        "from google.colab import drive\n",
        "drive.mount('/content/drive')"
      ],
      "execution_count": 2,
      "outputs": [
        {
          "output_type": "stream",
          "text": [
            "Drive already mounted at /content/drive; to attempt to forcibly remount, call drive.mount(\"/content/drive\", force_remount=True).\n"
          ],
          "name": "stdout"
        }
      ]
    },
    {
      "cell_type": "code",
      "metadata": {
        "id": "Tco0VmAF6VLW"
      },
      "source": [
        "# The LSBG image dataset\n",
        "LSBG_data_1 = np.float64(np.load(\"/content/drive/My Drive/Galaxies_Data/LSBG_sample_1.npy\"))/255.\n",
        "LSBG_data_2 = np.float64(np.load(\"/content/drive/My Drive/Galaxies_Data/LSBG_sample_2.npy\"))/255.\n",
        "LSBG_data_3 = np.float64(np.load(\"/content/drive/My Drive/Galaxies_Data/LSBG_sample_3.npy\"))/255.\n",
        "LSBG_data_4 = np.float64(np.load(\"/content/drive/My Drive/Galaxies_Data/LSBG_sample_4.npy\"))/255.\n",
        "# ===============================================================================================\n",
        "# ===============================================================================================\n",
        "# The artefacts image dataset\n",
        "Negative_data_2_1 = np.float64(np.load(\"/content/drive/My Drive/Galaxies_Data/Negative_sample_2_1.npy\"))/255.\n",
        "Negative_data_2_2 = np.float64(np.load(\"/content/drive/My Drive/Galaxies_Data/Negative_sample_2_2.npy\"))/255.\n",
        "Negative_data_2_3 = np.float64(np.load(\"/content/drive/My Drive/Galaxies_Data/Negative_sample_2_3.npy\"))/255.\n",
        "Negative_data_2_4 = np.float64(np.load(\"/content/drive/My Drive/Galaxies_Data/Negative_sample_2_4.npy\"))/255.\n",
        "# ===============================================================================================\n",
        "# ===============================================================================================\n",
        "# Import the HSC dataset - positives and negatives\n",
        "HSC_data = np.float64(np.load(\"/content/drive/My Drive/Galaxies_Data/Greco_sample_good.npy\"))/255.\n",
        "HSC_negatives = np.float64(np.load(\"/content/drive/My Drive/Galaxies_Data/Greco_sample_junk.npy\"))/255."
      ],
      "execution_count": 3,
      "outputs": []
    },
    {
      "cell_type": "markdown",
      "metadata": {
        "id": "YV8S0Kcq6VdS"
      },
      "source": [
        "Combine LSBG and artefacts data into one dataset"
      ]
    },
    {
      "cell_type": "code",
      "metadata": {
        "id": "kGl48DodTm6m"
      },
      "source": [
        "X_mat = np.concatenate((LSBG_data_1,LSBG_data_2,LSBG_data_3,LSBG_data_4,\n",
        "                        Negative_data_2_1,Negative_data_2_2,Negative_data_2_3,Negative_data_2_4)) # Features matrix\n",
        "# ==============================================================================\n",
        "# ==============================================================================\n",
        "y_label = np.concatenate((np.ones(20000),np.zeros(20000))) # Labels "
      ],
      "execution_count": 4,
      "outputs": []
    },
    {
      "cell_type": "code",
      "metadata": {
        "id": "r2gcVIWdTm-M"
      },
      "source": [
        "seeds = [1,3,18,33,42,96] #Random seeds\n",
        "n_loops = 6 #Number of loops/random seeds\n",
        "\n",
        "\n",
        "# ============================================\n",
        "# Create empty arrays for the evaluation metrics of each loop\n",
        "\n",
        "Accuracies = np.zeros(n_loops)\n",
        "Precisions = np.zeros(n_loops)\n",
        "Recalls = np.zeros(n_loops)\n",
        "tprs = np.zeros((n_loops,200))\n",
        "fprs = np.linspace(0,1,200)\n",
        "AUCs = np.zeros(n_loops)"
      ],
      "execution_count": 5,
      "outputs": []
    },
    {
      "cell_type": "markdown",
      "metadata": {
        "id": "A3cTbRjgUy_V"
      },
      "source": [
        "Calculate over loops"
      ]
    },
    {
      "cell_type": "code",
      "metadata": {
        "id": "JRBak9uVSQUg",
        "outputId": "58d9a19e-0818-489f-bd48-02ded36d08ee",
        "colab": {
          "base_uri": "https://localhost:8080/",
          "height": 1000
        }
      },
      "source": [
        "for i in range(n_loops):\n",
        "  # Clear the backend session\n",
        "  tf.keras.backend.clear_session()\n",
        "  # ============================================================================\n",
        "  # ============================================================================\n",
        "  # Get local seed\n",
        "  loc_seed = seeds[i]\n",
        "  # Now split the DES dataset in training, validation and test sets\n",
        "  # First in training and a set for validation and test \n",
        "  X_tr, X_valt, y_tr, y_valt = train_test_split(X_mat, y_label, test_size=0.25, random_state=loc_seed)\n",
        "  # Now split in validation and test sets \n",
        "  X_val, X_test, y_val, y_test = train_test_split(X_valt, y_valt, test_size=0.50, random_state=loc_seed)\n",
        "  # ============================================================================ \n",
        "  # ============================================================================\n",
        "  # Now build the model\n",
        "  model = keras.models.Sequential()\n",
        "  model.add(InputLayer((64,64,3)))\n",
        "  model.add(Conv2D(filters=16, kernel_size=(3,3), padding='same', activation='relu',kernel_regularizer=regularizers.l2(0.13)))\n",
        "  model.add(BatchNormalization())\n",
        "  model.add(MaxPool2D(pool_size=(2, 2), strides=None, padding='valid'))\n",
        "  model.add(Dropout(rate=0.4))\n",
        "  model.add(Conv2D(filters=2*16, kernel_size=(3,3), padding='same', activation='relu',kernel_regularizer=regularizers.l2(0.13)))\n",
        "  model.add(BatchNormalization())\n",
        "  model.add(MaxPool2D(pool_size=(2, 2), strides=None, padding='valid'))\n",
        "  model.add(Dropout(rate=0.4))\n",
        "  model.add(Conv2D(filters=2*32, kernel_size=(3,3), padding='same', activation='relu',kernel_regularizer=regularizers.l2(0.13)))\n",
        "  model.add(BatchNormalization())\n",
        "  model.add(MaxPool2D(pool_size=(2, 2), strides=None, padding='valid'))\n",
        "  model.add(Dropout(rate=0.4))\n",
        "  model.add(Flatten())\n",
        "  model.add(Dense(units=1024, activation='relu',kernel_regularizer=regularizers.l2(0.12)))\n",
        "  model.add(Dense(units=1, activation='sigmoid'))\n",
        "  model.compile(optimizer=optimizers.Adadelta(0.1),\n",
        "                loss= 'binary_crossentropy',\n",
        "                metrics=['accuracy'])\n",
        "  # ============================================================================\n",
        "  # Now fit the model\n",
        "  model.fit(x=X_tr, y=y_tr,\n",
        "          epochs=20, batch_size=64,\n",
        "          shuffle=True,\n",
        "          validation_data=(X_val,y_val))\n",
        "  # ============================================================================\n",
        "  # ============================================================================\n",
        "  # ============================================================================\n",
        "  # Now predict on the test set\n",
        "  y_pred = model.predict_classes(X_test)\n",
        "  # Predict probability scores\n",
        "  scores = model.predict(X_test)\n",
        "  # ============================================================================\n",
        "  # ============================================================================\n",
        "  # Evaluation metrics \n",
        "\n",
        "  Accuracies[i] = accuracy_score(y_test, y_pred)\n",
        "  Precisions[i] = precision_score(y_test, y_pred)\n",
        "  Recalls[i] = recall_score(y_test, y_pred)\n",
        "  AUCs[i] = roc_auc_score(y_test, scores[:,0])\n",
        "  # ============================================================================\n",
        "  # Get now false positives and true positives\n",
        "  fpr, tpr, thresholds = roc_curve(y_test, scores[:,0], pos_label=1.0)\n",
        "  fpr_unique, ind_unique = np.unique(fpr,return_index=True)\n",
        "  tpr_unique = tpr[ind_unique]\n",
        "\n",
        "  # Interpolate the false positives - true positives\n",
        "  interp = interpolate.interp1d(fpr_unique, tpr_unique, kind='linear')\n",
        "  tprs[i,:] = interp(fprs)"
      ],
      "execution_count": 6,
      "outputs": [
        {
          "output_type": "stream",
          "text": [
            "Epoch 1/20\n",
            "469/469 [==============================] - 3s 7ms/step - loss: 60.2365 - accuracy: 0.7954 - val_loss: 7.4062 - val_accuracy: 0.7176\n",
            "Epoch 2/20\n",
            "469/469 [==============================] - 3s 6ms/step - loss: 2.8275 - accuracy: 0.8742 - val_loss: 1.3337 - val_accuracy: 0.7820\n",
            "Epoch 3/20\n",
            "469/469 [==============================] - 3s 6ms/step - loss: 0.8155 - accuracy: 0.8909 - val_loss: 0.6224 - val_accuracy: 0.8892\n",
            "Epoch 4/20\n",
            "469/469 [==============================] - 3s 6ms/step - loss: 0.5157 - accuracy: 0.8990 - val_loss: 0.4578 - val_accuracy: 0.8926\n",
            "Epoch 5/20\n",
            "469/469 [==============================] - 3s 6ms/step - loss: 0.4149 - accuracy: 0.9025 - val_loss: 0.3780 - val_accuracy: 0.9088\n",
            "Epoch 6/20\n",
            "469/469 [==============================] - 3s 6ms/step - loss: 0.3691 - accuracy: 0.9058 - val_loss: 0.3465 - val_accuracy: 0.9056\n",
            "Epoch 7/20\n",
            "469/469 [==============================] - 3s 6ms/step - loss: 0.3440 - accuracy: 0.9050 - val_loss: 0.3294 - val_accuracy: 0.9096\n",
            "Epoch 8/20\n",
            "469/469 [==============================] - 3s 6ms/step - loss: 0.3258 - accuracy: 0.9077 - val_loss: 0.3265 - val_accuracy: 0.9054\n",
            "Epoch 9/20\n",
            "469/469 [==============================] - 3s 6ms/step - loss: 0.3144 - accuracy: 0.9093 - val_loss: 0.3036 - val_accuracy: 0.9122\n",
            "Epoch 10/20\n",
            "469/469 [==============================] - 3s 6ms/step - loss: 0.3052 - accuracy: 0.9109 - val_loss: 0.3260 - val_accuracy: 0.9074\n",
            "Epoch 11/20\n",
            "469/469 [==============================] - 3s 6ms/step - loss: 0.3016 - accuracy: 0.9089 - val_loss: 0.3075 - val_accuracy: 0.9080\n",
            "Epoch 12/20\n",
            "469/469 [==============================] - 3s 6ms/step - loss: 0.2931 - accuracy: 0.9106 - val_loss: 0.2887 - val_accuracy: 0.9144\n",
            "Epoch 13/20\n",
            "469/469 [==============================] - 3s 6ms/step - loss: 0.2922 - accuracy: 0.9090 - val_loss: 0.2873 - val_accuracy: 0.9148\n",
            "Epoch 14/20\n",
            "469/469 [==============================] - 3s 6ms/step - loss: 0.2879 - accuracy: 0.9119 - val_loss: 0.2988 - val_accuracy: 0.9066\n",
            "Epoch 15/20\n",
            "469/469 [==============================] - 3s 6ms/step - loss: 0.2872 - accuracy: 0.9116 - val_loss: 0.3001 - val_accuracy: 0.9066\n",
            "Epoch 16/20\n",
            "469/469 [==============================] - 3s 6ms/step - loss: 0.2842 - accuracy: 0.9137 - val_loss: 0.2839 - val_accuracy: 0.9100\n",
            "Epoch 17/20\n",
            "469/469 [==============================] - 3s 6ms/step - loss: 0.2845 - accuracy: 0.9118 - val_loss: 0.2820 - val_accuracy: 0.9122\n",
            "Epoch 18/20\n",
            "469/469 [==============================] - 3s 6ms/step - loss: 0.2838 - accuracy: 0.9109 - val_loss: 0.2700 - val_accuracy: 0.9120\n",
            "Epoch 19/20\n",
            "469/469 [==============================] - 3s 6ms/step - loss: 0.2808 - accuracy: 0.9125 - val_loss: 0.2838 - val_accuracy: 0.9128\n",
            "Epoch 20/20\n",
            "469/469 [==============================] - 3s 6ms/step - loss: 0.2792 - accuracy: 0.9126 - val_loss: 0.2736 - val_accuracy: 0.9136\n",
            "WARNING:tensorflow:From <ipython-input-6-bdd89e192d8e>:46: Sequential.predict_classes (from tensorflow.python.keras.engine.sequential) is deprecated and will be removed after 2021-01-01.\n",
            "Instructions for updating:\n",
            "Please use instead:* `np.argmax(model.predict(x), axis=-1)`,   if your model does multi-class classification   (e.g. if it uses a `softmax` last-layer activation).* `(model.predict(x) > 0.5).astype(\"int32\")`,   if your model does binary classification   (e.g. if it uses a `sigmoid` last-layer activation).\n",
            "Epoch 1/20\n",
            "469/469 [==============================] - 3s 7ms/step - loss: 58.7750 - accuracy: 0.7976 - val_loss: 7.4293 - val_accuracy: 0.6632\n",
            "Epoch 2/20\n",
            "469/469 [==============================] - 3s 6ms/step - loss: 2.8725 - accuracy: 0.8719 - val_loss: 1.3070 - val_accuracy: 0.8202\n",
            "Epoch 3/20\n",
            "469/469 [==============================] - 3s 6ms/step - loss: 0.8296 - accuracy: 0.8922 - val_loss: 0.6652 - val_accuracy: 0.8674\n",
            "Epoch 4/20\n",
            "469/469 [==============================] - 3s 6ms/step - loss: 0.5248 - accuracy: 0.8982 - val_loss: 0.4921 - val_accuracy: 0.8840\n",
            "Epoch 5/20\n",
            "469/469 [==============================] - 3s 6ms/step - loss: 0.4217 - accuracy: 0.9028 - val_loss: 0.3956 - val_accuracy: 0.9026\n",
            "Epoch 6/20\n",
            "469/469 [==============================] - 3s 6ms/step - loss: 0.3702 - accuracy: 0.9068 - val_loss: 0.3747 - val_accuracy: 0.8998\n",
            "Epoch 7/20\n",
            "469/469 [==============================] - 3s 6ms/step - loss: 0.3457 - accuracy: 0.9076 - val_loss: 0.3241 - val_accuracy: 0.9116\n",
            "Epoch 8/20\n",
            "469/469 [==============================] - 3s 6ms/step - loss: 0.3282 - accuracy: 0.9068 - val_loss: 0.3186 - val_accuracy: 0.9098\n",
            "Epoch 9/20\n",
            "469/469 [==============================] - 3s 6ms/step - loss: 0.3162 - accuracy: 0.9082 - val_loss: 0.3159 - val_accuracy: 0.9096\n",
            "Epoch 10/20\n",
            "469/469 [==============================] - 3s 6ms/step - loss: 0.3088 - accuracy: 0.9078 - val_loss: 0.3054 - val_accuracy: 0.9096\n",
            "Epoch 11/20\n",
            "469/469 [==============================] - 3s 6ms/step - loss: 0.3020 - accuracy: 0.9099 - val_loss: 0.3127 - val_accuracy: 0.9030\n",
            "Epoch 12/20\n",
            "469/469 [==============================] - 3s 6ms/step - loss: 0.2999 - accuracy: 0.9098 - val_loss: 0.2953 - val_accuracy: 0.9138\n",
            "Epoch 13/20\n",
            "469/469 [==============================] - 3s 6ms/step - loss: 0.2964 - accuracy: 0.9101 - val_loss: 0.2876 - val_accuracy: 0.9114\n",
            "Epoch 14/20\n",
            "469/469 [==============================] - 3s 6ms/step - loss: 0.2938 - accuracy: 0.9091 - val_loss: 0.2906 - val_accuracy: 0.9100\n",
            "Epoch 15/20\n",
            "469/469 [==============================] - 3s 6ms/step - loss: 0.2903 - accuracy: 0.9106 - val_loss: 0.2811 - val_accuracy: 0.9164\n",
            "Epoch 16/20\n",
            "469/469 [==============================] - 3s 6ms/step - loss: 0.2879 - accuracy: 0.9088 - val_loss: 0.2751 - val_accuracy: 0.9178\n",
            "Epoch 17/20\n",
            "469/469 [==============================] - 3s 6ms/step - loss: 0.2870 - accuracy: 0.9113 - val_loss: 0.2803 - val_accuracy: 0.9092\n",
            "Epoch 18/20\n",
            "469/469 [==============================] - 3s 7ms/step - loss: 0.2841 - accuracy: 0.9099 - val_loss: 0.2800 - val_accuracy: 0.9102\n",
            "Epoch 19/20\n",
            "469/469 [==============================] - 3s 6ms/step - loss: 0.2813 - accuracy: 0.9109 - val_loss: 0.2771 - val_accuracy: 0.9122\n",
            "Epoch 20/20\n",
            "469/469 [==============================] - 3s 6ms/step - loss: 0.2816 - accuracy: 0.9103 - val_loss: 0.2766 - val_accuracy: 0.9148\n",
            "Epoch 1/20\n",
            "469/469 [==============================] - 3s 7ms/step - loss: 59.7133 - accuracy: 0.8059 - val_loss: 7.5071 - val_accuracy: 0.7320\n",
            "Epoch 2/20\n",
            "469/469 [==============================] - 3s 6ms/step - loss: 2.8291 - accuracy: 0.8735 - val_loss: 1.2306 - val_accuracy: 0.8212\n",
            "Epoch 3/20\n",
            "469/469 [==============================] - 3s 6ms/step - loss: 0.7857 - accuracy: 0.8931 - val_loss: 0.6549 - val_accuracy: 0.8614\n",
            "Epoch 4/20\n",
            "469/469 [==============================] - 3s 6ms/step - loss: 0.4978 - accuracy: 0.8998 - val_loss: 0.4529 - val_accuracy: 0.8908\n",
            "Epoch 5/20\n",
            "469/469 [==============================] - 3s 6ms/step - loss: 0.4021 - accuracy: 0.9047 - val_loss: 0.3880 - val_accuracy: 0.8962\n",
            "Epoch 6/20\n",
            "469/469 [==============================] - 3s 6ms/step - loss: 0.3570 - accuracy: 0.9064 - val_loss: 0.3571 - val_accuracy: 0.8970\n",
            "Epoch 7/20\n",
            "469/469 [==============================] - 3s 7ms/step - loss: 0.3321 - accuracy: 0.9081 - val_loss: 0.3165 - val_accuracy: 0.9062\n",
            "Epoch 8/20\n",
            "469/469 [==============================] - 3s 7ms/step - loss: 0.3179 - accuracy: 0.9100 - val_loss: 0.3067 - val_accuracy: 0.9108\n",
            "Epoch 9/20\n",
            "469/469 [==============================] - 3s 7ms/step - loss: 0.3101 - accuracy: 0.9087 - val_loss: 0.3219 - val_accuracy: 0.8982\n",
            "Epoch 10/20\n",
            "469/469 [==============================] - 3s 7ms/step - loss: 0.3040 - accuracy: 0.9085 - val_loss: 0.3063 - val_accuracy: 0.9080\n",
            "Epoch 11/20\n",
            "469/469 [==============================] - 3s 6ms/step - loss: 0.2982 - accuracy: 0.9105 - val_loss: 0.2915 - val_accuracy: 0.9088\n",
            "Epoch 12/20\n",
            "469/469 [==============================] - 3s 7ms/step - loss: 0.2967 - accuracy: 0.9091 - val_loss: 0.2941 - val_accuracy: 0.9084\n",
            "Epoch 13/20\n",
            "469/469 [==============================] - 3s 7ms/step - loss: 0.2927 - accuracy: 0.9086 - val_loss: 0.2799 - val_accuracy: 0.9094\n",
            "Epoch 14/20\n",
            "469/469 [==============================] - 3s 6ms/step - loss: 0.2885 - accuracy: 0.9112 - val_loss: 0.2900 - val_accuracy: 0.9060\n",
            "Epoch 15/20\n",
            "469/469 [==============================] - 3s 6ms/step - loss: 0.2881 - accuracy: 0.9099 - val_loss: 0.2701 - val_accuracy: 0.9166\n",
            "Epoch 16/20\n",
            "469/469 [==============================] - 3s 6ms/step - loss: 0.2845 - accuracy: 0.9102 - val_loss: 0.2783 - val_accuracy: 0.9128\n",
            "Epoch 17/20\n",
            "469/469 [==============================] - 3s 6ms/step - loss: 0.2824 - accuracy: 0.9118 - val_loss: 0.3088 - val_accuracy: 0.8952\n",
            "Epoch 18/20\n",
            "469/469 [==============================] - 3s 6ms/step - loss: 0.2811 - accuracy: 0.9114 - val_loss: 0.2743 - val_accuracy: 0.9140\n",
            "Epoch 19/20\n",
            "469/469 [==============================] - 3s 6ms/step - loss: 0.2802 - accuracy: 0.9127 - val_loss: 0.2679 - val_accuracy: 0.9112\n",
            "Epoch 20/20\n",
            "469/469 [==============================] - 3s 6ms/step - loss: 0.2780 - accuracy: 0.9124 - val_loss: 0.2714 - val_accuracy: 0.9106\n",
            "Epoch 1/20\n",
            "469/469 [==============================] - 3s 7ms/step - loss: 56.5716 - accuracy: 0.8160 - val_loss: 6.2958 - val_accuracy: 0.7570\n",
            "Epoch 2/20\n",
            "469/469 [==============================] - 3s 6ms/step - loss: 2.4107 - accuracy: 0.8775 - val_loss: 1.0990 - val_accuracy: 0.8304\n",
            "Epoch 3/20\n",
            "469/469 [==============================] - 3s 6ms/step - loss: 0.7127 - accuracy: 0.8947 - val_loss: 0.5787 - val_accuracy: 0.8752\n",
            "Epoch 4/20\n",
            "469/469 [==============================] - 3s 6ms/step - loss: 0.4707 - accuracy: 0.9003 - val_loss: 0.4366 - val_accuracy: 0.8952\n",
            "Epoch 5/20\n",
            "469/469 [==============================] - 3s 6ms/step - loss: 0.3896 - accuracy: 0.9016 - val_loss: 0.3756 - val_accuracy: 0.9000\n",
            "Epoch 6/20\n",
            "469/469 [==============================] - 3s 6ms/step - loss: 0.3502 - accuracy: 0.9048 - val_loss: 0.3548 - val_accuracy: 0.8998\n",
            "Epoch 7/20\n",
            "469/469 [==============================] - 3s 6ms/step - loss: 0.3289 - accuracy: 0.9066 - val_loss: 0.3294 - val_accuracy: 0.9008\n",
            "Epoch 8/20\n",
            "469/469 [==============================] - 3s 6ms/step - loss: 0.3136 - accuracy: 0.9088 - val_loss: 0.3160 - val_accuracy: 0.9012\n",
            "Epoch 9/20\n",
            "469/469 [==============================] - 3s 6ms/step - loss: 0.3046 - accuracy: 0.9097 - val_loss: 0.3333 - val_accuracy: 0.9008\n",
            "Epoch 10/20\n",
            "469/469 [==============================] - 3s 6ms/step - loss: 0.2989 - accuracy: 0.9102 - val_loss: 0.3077 - val_accuracy: 0.9082\n",
            "Epoch 11/20\n",
            "469/469 [==============================] - 3s 6ms/step - loss: 0.2946 - accuracy: 0.9092 - val_loss: 0.2944 - val_accuracy: 0.9074\n",
            "Epoch 12/20\n",
            "469/469 [==============================] - 3s 6ms/step - loss: 0.2902 - accuracy: 0.9103 - val_loss: 0.2871 - val_accuracy: 0.9104\n",
            "Epoch 13/20\n",
            "469/469 [==============================] - 3s 6ms/step - loss: 0.2874 - accuracy: 0.9107 - val_loss: 0.2965 - val_accuracy: 0.9060\n",
            "Epoch 14/20\n",
            "469/469 [==============================] - 3s 6ms/step - loss: 0.2864 - accuracy: 0.9112 - val_loss: 0.2904 - val_accuracy: 0.9104\n",
            "Epoch 15/20\n",
            "469/469 [==============================] - 3s 6ms/step - loss: 0.2834 - accuracy: 0.9118 - val_loss: 0.2888 - val_accuracy: 0.9078\n",
            "Epoch 16/20\n",
            "469/469 [==============================] - 3s 6ms/step - loss: 0.2832 - accuracy: 0.9123 - val_loss: 0.3085 - val_accuracy: 0.9028\n",
            "Epoch 17/20\n",
            "469/469 [==============================] - 3s 6ms/step - loss: 0.2802 - accuracy: 0.9125 - val_loss: 0.2997 - val_accuracy: 0.9036\n",
            "Epoch 18/20\n",
            "469/469 [==============================] - 3s 6ms/step - loss: 0.2760 - accuracy: 0.9133 - val_loss: 0.2917 - val_accuracy: 0.9052\n",
            "Epoch 19/20\n",
            "469/469 [==============================] - 3s 6ms/step - loss: 0.2774 - accuracy: 0.9116 - val_loss: 0.2971 - val_accuracy: 0.9050\n",
            "Epoch 20/20\n",
            "469/469 [==============================] - 3s 6ms/step - loss: 0.2755 - accuracy: 0.9137 - val_loss: 0.3251 - val_accuracy: 0.8948\n",
            "Epoch 1/20\n",
            "469/469 [==============================] - 3s 7ms/step - loss: 60.6161 - accuracy: 0.8056 - val_loss: 7.7519 - val_accuracy: 0.8414\n",
            "Epoch 2/20\n",
            "469/469 [==============================] - 3s 7ms/step - loss: 2.9148 - accuracy: 0.8674 - val_loss: 1.2114 - val_accuracy: 0.8308\n",
            "Epoch 3/20\n",
            "469/469 [==============================] - 3s 7ms/step - loss: 0.7600 - accuracy: 0.8900 - val_loss: 0.6727 - val_accuracy: 0.8422\n",
            "Epoch 4/20\n",
            "469/469 [==============================] - 3s 7ms/step - loss: 0.4859 - accuracy: 0.8995 - val_loss: 0.4227 - val_accuracy: 0.9054\n",
            "Epoch 5/20\n",
            "469/469 [==============================] - 3s 7ms/step - loss: 0.3973 - accuracy: 0.9022 - val_loss: 0.3865 - val_accuracy: 0.8990\n",
            "Epoch 6/20\n",
            "469/469 [==============================] - 3s 7ms/step - loss: 0.3567 - accuracy: 0.9066 - val_loss: 0.3481 - val_accuracy: 0.9062\n",
            "Epoch 7/20\n",
            "469/469 [==============================] - 3s 7ms/step - loss: 0.3345 - accuracy: 0.9052 - val_loss: 0.3340 - val_accuracy: 0.9026\n",
            "Epoch 8/20\n",
            "469/469 [==============================] - 3s 7ms/step - loss: 0.3200 - accuracy: 0.9079 - val_loss: 0.3199 - val_accuracy: 0.9082\n",
            "Epoch 9/20\n",
            "469/469 [==============================] - 3s 7ms/step - loss: 0.3116 - accuracy: 0.9057 - val_loss: 0.3206 - val_accuracy: 0.9050\n",
            "Epoch 10/20\n",
            "469/469 [==============================] - 3s 7ms/step - loss: 0.3033 - accuracy: 0.9074 - val_loss: 0.3138 - val_accuracy: 0.9008\n",
            "Epoch 11/20\n",
            "469/469 [==============================] - 3s 7ms/step - loss: 0.2989 - accuracy: 0.9100 - val_loss: 0.2982 - val_accuracy: 0.9122\n",
            "Epoch 12/20\n",
            "469/469 [==============================] - 3s 7ms/step - loss: 0.2946 - accuracy: 0.9104 - val_loss: 0.3307 - val_accuracy: 0.8936\n",
            "Epoch 13/20\n",
            "469/469 [==============================] - 3s 7ms/step - loss: 0.2944 - accuracy: 0.9102 - val_loss: 0.3992 - val_accuracy: 0.8606\n",
            "Epoch 14/20\n",
            "469/469 [==============================] - 3s 7ms/step - loss: 0.2900 - accuracy: 0.9097 - val_loss: 0.3166 - val_accuracy: 0.9012\n",
            "Epoch 15/20\n",
            "469/469 [==============================] - 3s 7ms/step - loss: 0.2863 - accuracy: 0.9103 - val_loss: 0.2808 - val_accuracy: 0.9158\n",
            "Epoch 16/20\n",
            "469/469 [==============================] - 3s 7ms/step - loss: 0.2853 - accuracy: 0.9113 - val_loss: 0.2921 - val_accuracy: 0.9096\n",
            "Epoch 17/20\n",
            "469/469 [==============================] - 3s 7ms/step - loss: 0.2823 - accuracy: 0.9127 - val_loss: 0.3244 - val_accuracy: 0.8922\n",
            "Epoch 18/20\n",
            "469/469 [==============================] - 3s 7ms/step - loss: 0.2845 - accuracy: 0.9092 - val_loss: 0.2807 - val_accuracy: 0.9140\n",
            "Epoch 19/20\n",
            "469/469 [==============================] - 3s 7ms/step - loss: 0.2810 - accuracy: 0.9109 - val_loss: 0.2846 - val_accuracy: 0.9118\n",
            "Epoch 20/20\n",
            "469/469 [==============================] - 3s 7ms/step - loss: 0.2813 - accuracy: 0.9100 - val_loss: 0.2884 - val_accuracy: 0.9108\n",
            "Epoch 1/20\n",
            "469/469 [==============================] - 3s 7ms/step - loss: 55.4685 - accuracy: 0.8119 - val_loss: 6.3421 - val_accuracy: 0.6890\n",
            "Epoch 2/20\n",
            "469/469 [==============================] - 3s 6ms/step - loss: 2.5159 - accuracy: 0.8772 - val_loss: 1.2024 - val_accuracy: 0.8112\n",
            "Epoch 3/20\n",
            "469/469 [==============================] - 3s 6ms/step - loss: 0.7540 - accuracy: 0.8941 - val_loss: 0.6013 - val_accuracy: 0.8782\n",
            "Epoch 4/20\n",
            "469/469 [==============================] - 3s 6ms/step - loss: 0.4848 - accuracy: 0.9016 - val_loss: 0.4301 - val_accuracy: 0.9012\n",
            "Epoch 5/20\n",
            "469/469 [==============================] - 3s 6ms/step - loss: 0.3997 - accuracy: 0.9035 - val_loss: 0.3757 - val_accuracy: 0.8992\n",
            "Epoch 6/20\n",
            "469/469 [==============================] - 3s 6ms/step - loss: 0.3604 - accuracy: 0.9054 - val_loss: 0.3410 - val_accuracy: 0.9036\n",
            "Epoch 7/20\n",
            "469/469 [==============================] - 3s 6ms/step - loss: 0.3365 - accuracy: 0.9073 - val_loss: 0.3185 - val_accuracy: 0.9086\n",
            "Epoch 8/20\n",
            "469/469 [==============================] - 3s 6ms/step - loss: 0.3209 - accuracy: 0.9081 - val_loss: 0.3267 - val_accuracy: 0.8970\n",
            "Epoch 9/20\n",
            "469/469 [==============================] - 3s 6ms/step - loss: 0.3111 - accuracy: 0.9073 - val_loss: 0.3509 - val_accuracy: 0.8950\n",
            "Epoch 10/20\n",
            "469/469 [==============================] - 3s 6ms/step - loss: 0.3045 - accuracy: 0.9087 - val_loss: 0.3312 - val_accuracy: 0.8958\n",
            "Epoch 11/20\n",
            "469/469 [==============================] - 3s 7ms/step - loss: 0.2984 - accuracy: 0.9104 - val_loss: 0.3175 - val_accuracy: 0.8978\n",
            "Epoch 12/20\n",
            "469/469 [==============================] - 3s 7ms/step - loss: 0.2966 - accuracy: 0.9099 - val_loss: 0.2879 - val_accuracy: 0.9078\n",
            "Epoch 13/20\n",
            "469/469 [==============================] - 3s 7ms/step - loss: 0.2918 - accuracy: 0.9103 - val_loss: 0.2854 - val_accuracy: 0.9088\n",
            "Epoch 14/20\n",
            "469/469 [==============================] - 3s 6ms/step - loss: 0.2889 - accuracy: 0.9123 - val_loss: 0.2921 - val_accuracy: 0.9030\n",
            "Epoch 15/20\n",
            "469/469 [==============================] - 3s 6ms/step - loss: 0.2870 - accuracy: 0.9101 - val_loss: 0.2794 - val_accuracy: 0.9154\n",
            "Epoch 16/20\n",
            "469/469 [==============================] - 3s 6ms/step - loss: 0.2861 - accuracy: 0.9116 - val_loss: 0.2899 - val_accuracy: 0.9034\n",
            "Epoch 17/20\n",
            "469/469 [==============================] - 3s 6ms/step - loss: 0.2838 - accuracy: 0.9107 - val_loss: 0.2905 - val_accuracy: 0.9030\n",
            "Epoch 18/20\n",
            "469/469 [==============================] - 3s 7ms/step - loss: 0.2816 - accuracy: 0.9113 - val_loss: 0.2782 - val_accuracy: 0.9110\n",
            "Epoch 19/20\n",
            "469/469 [==============================] - 3s 6ms/step - loss: 0.2807 - accuracy: 0.9120 - val_loss: 0.2915 - val_accuracy: 0.8964\n",
            "Epoch 20/20\n",
            "469/469 [==============================] - 3s 6ms/step - loss: 0.2803 - accuracy: 0.9117 - val_loss: 0.2678 - val_accuracy: 0.9108\n"
          ],
          "name": "stdout"
        }
      ]
    },
    {
      "cell_type": "markdown",
      "metadata": {
        "id": "APjiCN3gSQXw"
      },
      "source": [
        "**Print evaluation metrics**"
      ]
    },
    {
      "cell_type": "code",
      "metadata": {
        "id": "gyEpFzBVSQcu",
        "outputId": "2d8aee5a-e188-4cdd-83bf-f9afadf3045c",
        "colab": {
          "base_uri": "https://localhost:8080/",
          "height": 85
        }
      },
      "source": [
        "print('Accuracies are:',Accuracies)\n",
        "print('Precisions are:',Precisions)\n",
        "print('Recalls are:',Recalls)\n",
        "print('AUCs are:', AUCs)"
      ],
      "execution_count": 7,
      "outputs": [
        {
          "output_type": "stream",
          "text": [
            "Accuracies are: [0.9126 0.9142 0.9152 0.9054 0.9078 0.9128]\n",
            "Precisions are: [0.89450056 0.88497919 0.884803   0.86141109 0.8683274  0.87997054]\n",
            "Recalls are: [0.93912019 0.94926948 0.95272727 0.96453043 0.96404583 0.956     ]\n",
            "AUCs are: [0.96417803 0.9711485  0.96640632 0.96077573 0.96808013 0.96700128]\n"
          ],
          "name": "stdout"
        }
      ]
    },
    {
      "cell_type": "markdown",
      "metadata": {
        "id": "5UP80n4E8Jd2"
      },
      "source": [
        "### Import data in the original split"
      ]
    },
    {
      "cell_type": "code",
      "metadata": {
        "id": "VlSR07Mu8PZY"
      },
      "source": [
        "# For image-based classification\n",
        "X_tr = np.float64(np.load(\"/content/drive/My Drive/Galaxies_Data/X_train.npy\")) #Training\n",
        "X_val = np.float64(np.load(\"/content/drive/My Drive/Galaxies_Data/X_val.npy\")) #Validation\n",
        "X_test = np.float64(np.load(\"/content/drive/My Drive/Galaxies_Data/X_test.npy\")) #Test\n",
        "\n",
        "# Labels\n",
        "y_tr = np.float64(np.load(\"/content/drive/My Drive/Galaxies_Data/y_train.npy\")) # Training\n",
        "y_val = np.float64(np.load(\"/content/drive/My Drive/Galaxies_Data/y_val.npy\")) #Validation\n",
        "y_test = np.float64(np.load(\"/content/drive/My Drive/Galaxies_Data/y_test.npy\")) #Test"
      ],
      "execution_count": 69,
      "outputs": []
    },
    {
      "cell_type": "code",
      "metadata": {
        "id": "YomCP8so8TvU"
      },
      "source": [
        "# Clear the backend session\n",
        "\n",
        "tf.keras.backend.clear_session()\n",
        "# build the  original model\n",
        "model = keras.models.Sequential()\n",
        "model.add(InputLayer((64,64,3)))\n",
        "model.add(Conv2D(filters=16, kernel_size=(3,3), padding='same', activation='relu',kernel_regularizer=regularizers.l2(0.13)))\n",
        "model.add(BatchNormalization())\n",
        "model.add(MaxPool2D(pool_size=(2, 2), strides=None, padding='valid'))\n",
        "model.add(Dropout(rate=0.4))\n",
        "model.add(Conv2D(filters=2*16, kernel_size=(3,3), padding='same', activation='relu',kernel_regularizer=regularizers.l2(0.13)))\n",
        "model.add(BatchNormalization())\n",
        "model.add(MaxPool2D(pool_size=(2, 2), strides=None, padding='valid'))\n",
        "model.add(Dropout(rate=0.4))\n",
        "model.add(Conv2D(filters=2*32, kernel_size=(3,3), padding='same', activation='relu',kernel_regularizer=regularizers.l2(0.13)))\n",
        "model.add(BatchNormalization())\n",
        "model.add(MaxPool2D(pool_size=(2, 2), strides=None, padding='valid'))\n",
        "model.add(Dropout(rate=0.4))\n",
        "model.add(Flatten())\n",
        "model.add(Dense(units=1024, activation='relu',kernel_regularizer=regularizers.l2(0.12)))\n",
        "model.add(Dense(units=1, activation='sigmoid'))\n",
        "model.compile(optimizer=optimizers.Adadelta(0.1),\n",
        "              loss= 'binary_crossentropy',\n",
        "              metrics=['accuracy'])"
      ],
      "execution_count": 70,
      "outputs": []
    },
    {
      "cell_type": "code",
      "metadata": {
        "id": "SEsJIpqX8eyS",
        "outputId": "50eb8d12-9e44-4caa-aea4-60eb3270b8fb",
        "colab": {
          "base_uri": "https://localhost:8080/",
          "height": 714
        }
      },
      "source": [
        "model.fit(x=X_tr, y=y_tr,\n",
        "          epochs=20, batch_size=64,\n",
        "          shuffle=True,\n",
        "          validation_data=(X_val,y_val))"
      ],
      "execution_count": 71,
      "outputs": [
        {
          "output_type": "stream",
          "text": [
            "Epoch 1/20\n",
            "469/469 [==============================] - 3s 7ms/step - loss: 56.5741 - accuracy: 0.8087 - val_loss: 6.6076 - val_accuracy: 0.7588\n",
            "Epoch 2/20\n",
            "469/469 [==============================] - 3s 6ms/step - loss: 2.5633 - accuracy: 0.8745 - val_loss: 1.1756 - val_accuracy: 0.8220\n",
            "Epoch 3/20\n",
            "469/469 [==============================] - 3s 6ms/step - loss: 0.7502 - accuracy: 0.8918 - val_loss: 0.5923 - val_accuracy: 0.8898\n",
            "Epoch 4/20\n",
            "469/469 [==============================] - 3s 6ms/step - loss: 0.4892 - accuracy: 0.8988 - val_loss: 0.4395 - val_accuracy: 0.9054\n",
            "Epoch 5/20\n",
            "469/469 [==============================] - 3s 6ms/step - loss: 0.4022 - accuracy: 0.9022 - val_loss: 0.3725 - val_accuracy: 0.9052\n",
            "Epoch 6/20\n",
            "469/469 [==============================] - 3s 6ms/step - loss: 0.3618 - accuracy: 0.9046 - val_loss: 0.3583 - val_accuracy: 0.8970\n",
            "Epoch 7/20\n",
            "469/469 [==============================] - 3s 6ms/step - loss: 0.3369 - accuracy: 0.9065 - val_loss: 0.3288 - val_accuracy: 0.9094\n",
            "Epoch 8/20\n",
            "469/469 [==============================] - 3s 6ms/step - loss: 0.3212 - accuracy: 0.9080 - val_loss: 0.3181 - val_accuracy: 0.9046\n",
            "Epoch 9/20\n",
            "469/469 [==============================] - 3s 6ms/step - loss: 0.3137 - accuracy: 0.9071 - val_loss: 0.3078 - val_accuracy: 0.9060\n",
            "Epoch 10/20\n",
            "469/469 [==============================] - 3s 6ms/step - loss: 0.3050 - accuracy: 0.9091 - val_loss: 0.3167 - val_accuracy: 0.8996\n",
            "Epoch 11/20\n",
            "469/469 [==============================] - 3s 6ms/step - loss: 0.2997 - accuracy: 0.9092 - val_loss: 0.3025 - val_accuracy: 0.9040\n",
            "Epoch 12/20\n",
            "469/469 [==============================] - 3s 6ms/step - loss: 0.2948 - accuracy: 0.9109 - val_loss: 0.3159 - val_accuracy: 0.9020\n",
            "Epoch 13/20\n",
            "469/469 [==============================] - 3s 6ms/step - loss: 0.2963 - accuracy: 0.9086 - val_loss: 0.3016 - val_accuracy: 0.9024\n",
            "Epoch 14/20\n",
            "469/469 [==============================] - 3s 6ms/step - loss: 0.2896 - accuracy: 0.9115 - val_loss: 0.2858 - val_accuracy: 0.9090\n",
            "Epoch 15/20\n",
            "469/469 [==============================] - 3s 6ms/step - loss: 0.2884 - accuracy: 0.9107 - val_loss: 0.3028 - val_accuracy: 0.9034\n",
            "Epoch 16/20\n",
            "469/469 [==============================] - 3s 6ms/step - loss: 0.2870 - accuracy: 0.9093 - val_loss: 0.2854 - val_accuracy: 0.9100\n",
            "Epoch 17/20\n",
            "469/469 [==============================] - 3s 6ms/step - loss: 0.2840 - accuracy: 0.9108 - val_loss: 0.2988 - val_accuracy: 0.9022\n",
            "Epoch 18/20\n",
            "469/469 [==============================] - 3s 6ms/step - loss: 0.2821 - accuracy: 0.9116 - val_loss: 0.2833 - val_accuracy: 0.9088\n",
            "Epoch 19/20\n",
            "469/469 [==============================] - 3s 6ms/step - loss: 0.2824 - accuracy: 0.9114 - val_loss: 0.2708 - val_accuracy: 0.9140\n",
            "Epoch 20/20\n",
            "469/469 [==============================] - 3s 6ms/step - loss: 0.2801 - accuracy: 0.9105 - val_loss: 0.2756 - val_accuracy: 0.9096\n"
          ],
          "name": "stdout"
        },
        {
          "output_type": "execute_result",
          "data": {
            "text/plain": [
              "<tensorflow.python.keras.callbacks.History at 0x7f04140ba198>"
            ]
          },
          "metadata": {
            "tags": []
          },
          "execution_count": 71
        }
      ]
    },
    {
      "cell_type": "markdown",
      "metadata": {
        "id": "7n9X2lQS8jEN"
      },
      "source": [
        "Predict now and calculate ROC"
      ]
    },
    {
      "cell_type": "code",
      "metadata": {
        "id": "oo6Wc8sG8jK5"
      },
      "source": [
        "# Predict classes\n",
        "y_pred = model.predict_classes(X_test)\n",
        "# Predict probability scores\n",
        "scores = model.predict(X_test)"
      ],
      "execution_count": 72,
      "outputs": []
    },
    {
      "cell_type": "code",
      "metadata": {
        "id": "yyFU_pCi8jPr"
      },
      "source": [
        "# fpr, tpr for roc curve plot\n",
        "fpr, tpr, thresholds = roc_curve(y_test, scores[:,0], pos_label=1.0)\n",
        "\n",
        "fpr_unique, ind_unique = np.unique(fpr,return_index=True)\n",
        "tpr_unique = tpr[ind_unique]\n",
        "\n",
        "# Interpolate the false positives - true positives\n",
        "interp = interpolate.interp1d(fpr_unique, tpr_unique, kind='linear')\n",
        "tpr = interp(fprs)"
      ],
      "execution_count": 79,
      "outputs": []
    },
    {
      "cell_type": "code",
      "metadata": {
        "id": "q06eWFP26VDj",
        "outputId": "d61b1ee1-d13e-4e21-86ed-30d0c56bb7e7",
        "colab": {
          "base_uri": "https://localhost:8080/",
          "height": 444
        }
      },
      "source": [
        "from mpl_toolkits.axes_grid.inset_locator import (inset_axes, InsetPosition,\n",
        "                                                  mark_inset)\n",
        "\n",
        "custom_blues = [\"#66CCFF\", \"#33BBFF\", \"#00AAFF\", \"#0088CC\", \"#006699\", \"#004466\"]\n",
        "\n",
        "x = np.linspace(0,1,100)\n",
        "\n",
        "\n",
        "fig, ax1 = plt.subplots(figsize = (5.5,5.5))\n",
        "# =============================================================\n",
        "# =============================================================\n",
        "# Main figure\n",
        "\n",
        "ax1.plot(fprs,tpr,c='darkorange',linewidth=1.3, label='Baseline split')\n",
        "ax1.plot(fprs,tprs[0],c=custom_blues[0],linewidth=0.8)\n",
        "ax1.plot(fprs,tprs[1],c=custom_blues[1],linewidth=0.8)\n",
        "ax1.plot(fprs,tprs[2],c=custom_blues[2],linewidth=0.8,label='Other random seeds')\n",
        "ax1.plot(fprs,tprs[3],c=custom_blues[3],linewidth=0.8)\n",
        "ax1.plot(fprs,tprs[4],c=custom_blues[4],linewidth=0.8)\n",
        "ax1.plot(fprs,tprs[5],c=custom_blues[5],linewidth=0.8)\n",
        "\n",
        "\n",
        "\n",
        "#Plot diagonal\n",
        "ax1.plot(x,x, c='k',ls='--',linewidth=0.8)\n",
        "ax1.grid(ls='--', alpha=0.6)\n",
        "\n",
        "ax1.set_xlabel('False Positive Rate',fontsize=14);ax1.set_ylabel('True Positive Rate',fontsize=14)\n",
        "ax1.tick_params(axis='both', labelsize=13)\n",
        "\n",
        "\n",
        "ax1.legend(frameon=True, loc='lower right', fontsize=14)\n",
        "# =============================================================\n",
        "# =============================================================\n",
        "# Inset figure\n",
        "left, bottom, width, height = [0.55, 0.33, 0.35, 0.35]\n",
        "ax2 = fig.add_axes([left, bottom, width, height])\n",
        "\n",
        "ax2.plot(fprs,tpr,c='darkorange',linewidth=1.3)\n",
        "ax2.plot(fprs,tprs[0],c=custom_blues[0],linewidth=0.9)\n",
        "ax2.plot(fprs,tprs[1],c=custom_blues[1],linewidth=0.9)\n",
        "ax2.plot(fprs,tprs[2],c=custom_blues[2],linewidth=0.9)\n",
        "ax2.plot(fprs,tprs[3],c=custom_blues[3],linewidth=0.9)\n",
        "ax2.plot(fprs,tprs[4],c=custom_blues[4],linewidth=0.9)\n",
        "ax2.plot(fprs,tprs[5],c=custom_blues[5],linewidth=0.9)\n",
        "\n",
        "\n",
        "ax2.set_xlim(0.0,0.2)\n",
        "ax2.set_ylim(0.8,1.0)\n",
        "ax2.tick_params(axis='both', labelsize=12)\n",
        "ax2.grid(ls='--', alpha=0.6)\n",
        "# =============================================================\n",
        "# =============================================================\n",
        "# Format the whole figure\n",
        "# Mark the region corresponding to the inset axes on ax1 and draw lines\n",
        "# in grey linking the two axes.\n",
        "mark_inset(ax1, ax2, loc1=1, loc2=3, fc=\"none\",ls='--', ec='0.5')\n",
        "\n",
        "plt.tight_layout()\n",
        "plt.savefig(\"/content/drive/My Drive/Plots/ROC_other_seeds.pdf\")\n",
        "#files.download(\"/content/drive/My Drive/Plots/ROC_other_seeds.pdf\")\n",
        "plt.show()"
      ],
      "execution_count": 89,
      "outputs": [
        {
          "output_type": "stream",
          "text": [
            "/usr/local/lib/python3.6/dist-packages/ipykernel_launcher.py:59: UserWarning: This figure includes Axes that are not compatible with tight_layout, so results might be incorrect.\n"
          ],
          "name": "stderr"
        },
        {
          "output_type": "display_data",
          "data": {
            "image/png": "[encoded data removed]",
            "text/plain": [
              "<Figure size 396x396 with 2 Axes>"
            ]
          },
          "metadata": {
            "tags": [],
            "needs_background": "light"
          }
        }
      ]
    },
    {
      "cell_type": "code",
      "metadata": {
        "id": "XdBs5R-1vfB6"
      },
      "source": [
        ""
      ],
      "execution_count": null,
      "outputs": []
    },
    {
      "cell_type": "code",
      "metadata": {
        "id": "c2jcW4HDvfH8"
      },
      "source": [
        ""
      ],
      "execution_count": null,
      "outputs": []
    },
    {
      "cell_type": "code",
      "metadata": {
        "id": "3eAnS0LYvfTv"
      },
      "source": [
        ""
      ],
      "execution_count": null,
      "outputs": []
    },
    {
      "cell_type": "code",
      "metadata": {
        "id": "yS-Ht0YwvfFw"
      },
      "source": [
        ""
      ],
      "execution_count": null,
      "outputs": []
    }
  ]
}